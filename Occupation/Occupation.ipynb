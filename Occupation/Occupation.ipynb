{
 "cells": [
  {
   "cell_type": "code",
   "execution_count": 32,
   "metadata": {},
   "outputs": [],
   "source": [
    "import pandas as pd\n",
    "import numpy as np\n",
    "from sklearn.feature_extraction.text import CountVectorizer,TfidfTransformer\n",
    "from sklearn.naive_bayes import MultinomialNB\n",
    "from sklearn.model_selection import KFold, cross_val_score\n",
    "from sklearn.feature_selection import SelectKBest, f_classif, chi2\n",
    "from sklearn.model_selection import train_test_split\n",
    "from sklearn.naive_bayes import MultinomialNB\n",
    "import matplotlib.pyplot as plt\n",
    "%matplotlib inline"
   ]
  },
  {
   "cell_type": "code",
   "execution_count": 49,
   "metadata": {},
   "outputs": [
    {
     "data": {
      "text/html": [
       "<div>\n",
       "<style scoped>\n",
       "    .dataframe tbody tr th:only-of-type {\n",
       "        vertical-align: middle;\n",
       "    }\n",
       "\n",
       "    .dataframe tbody tr th {\n",
       "        vertical-align: top;\n",
       "    }\n",
       "\n",
       "    .dataframe thead th {\n",
       "        text-align: right;\n",
       "    }\n",
       "</style>\n",
       "<table border=\"1\" class=\"dataframe\">\n",
       "  <thead>\n",
       "    <tr style=\"text-align: right;\">\n",
       "      <th></th>\n",
       "      <th>user_id</th>\n",
       "      <th>tweets</th>\n",
       "    </tr>\n",
       "  </thead>\n",
       "  <tbody>\n",
       "    <tr>\n",
       "      <th>0</th>\n",
       "      <td>1840181210</td>\n",
       "      <td>letsvacation kiluan marischkaprue 1416 maret 2...</td>\n",
       "    </tr>\n",
       "    <tr>\n",
       "      <th>1</th>\n",
       "      <td>1840181210</td>\n",
       "      <td>letsvacation lombok 3d2n price start 1200k per...</td>\n",
       "    </tr>\n",
       "    <tr>\n",
       "      <th>2</th>\n",
       "      <td>1840181210</td>\n",
       "      <td>letsvacation dieng negeri diatas awan price st...</td>\n",
       "    </tr>\n",
       "    <tr>\n",
       "      <th>3</th>\n",
       "      <td>1840181210</td>\n",
       "      <td>morningg</td>\n",
       "    </tr>\n",
       "    <tr>\n",
       "      <th>4</th>\n",
       "      <td>1840181210</td>\n",
       "      <td>life difficult exam</td>\n",
       "    </tr>\n",
       "  </tbody>\n",
       "</table>\n",
       "</div>"
      ],
      "text/plain": [
       "      user_id                                             tweets\n",
       "0  1840181210  letsvacation kiluan marischkaprue 1416 maret 2...\n",
       "1  1840181210  letsvacation lombok 3d2n price start 1200k per...\n",
       "2  1840181210  letsvacation dieng negeri diatas awan price st...\n",
       "3  1840181210                                           morningg\n",
       "4  1840181210                                life difficult exam"
      ]
     },
     "execution_count": 49,
     "metadata": {},
     "output_type": "execute_result"
    }
   ],
   "source": [
    "# dataframe = pd.read_csv('user-tweettexts',names=['user_id','tweets'],sep=\"\\t\")\n",
    "dataframe = pd.read_csv('trial',names=['user_id','tweets'],sep=\"\\t\")\n",
    "dataframe.head()"
   ]
  },
  {
   "cell_type": "code",
   "execution_count": 50,
   "metadata": {},
   "outputs": [
    {
     "data": {
      "text/html": [
       "<div>\n",
       "<style scoped>\n",
       "    .dataframe tbody tr th:only-of-type {\n",
       "        vertical-align: middle;\n",
       "    }\n",
       "\n",
       "    .dataframe tbody tr th {\n",
       "        vertical-align: top;\n",
       "    }\n",
       "\n",
       "    .dataframe thead th {\n",
       "        text-align: right;\n",
       "    }\n",
       "</style>\n",
       "<table border=\"1\" class=\"dataframe\">\n",
       "  <thead>\n",
       "    <tr style=\"text-align: right;\">\n",
       "      <th></th>\n",
       "      <th>occupation-id</th>\n",
       "    </tr>\n",
       "  </thead>\n",
       "  <tbody>\n",
       "    <tr>\n",
       "      <th>0</th>\n",
       "      <td>621</td>\n",
       "    </tr>\n",
       "    <tr>\n",
       "      <th>1</th>\n",
       "      <td>621</td>\n",
       "    </tr>\n",
       "    <tr>\n",
       "      <th>2</th>\n",
       "      <td>621</td>\n",
       "    </tr>\n",
       "    <tr>\n",
       "      <th>3</th>\n",
       "      <td>621</td>\n",
       "    </tr>\n",
       "    <tr>\n",
       "      <th>4</th>\n",
       "      <td>621</td>\n",
       "    </tr>\n",
       "  </tbody>\n",
       "</table>\n",
       "</div>"
      ],
      "text/plain": [
       "   occupation-id\n",
       "0            621\n",
       "1            621\n",
       "2            621\n",
       "3            621\n",
       "4            621"
      ]
     },
     "execution_count": 50,
     "metadata": {},
     "output_type": "execute_result"
    }
   ],
   "source": [
    "labels = pd.read_csv('labels',names=['occupation-id'])\n",
    "labels.head()"
   ]
  },
  {
   "cell_type": "code",
   "execution_count": 38,
   "metadata": {},
   "outputs": [],
   "source": [
    "Count_Vectorizer = CountVectorizer(ngram_range=(1,3))\n",
    "selector = SelectKBest(f_classif, 50000)"
   ]
  },
  {
   "cell_type": "code",
   "execution_count": 51,
   "metadata": {},
   "outputs": [],
   "source": [
    "cv = Count_Vectorizer.fit_transform(dataframe['tweets'].values.astype('U'))\n",
    "temp_selector = selector.fit(cv,labels['occupation-id'])\n",
    "cv = temp_selector.transform(cv)\n",
    "tfidf_final = TfidfTransformer(use_idf=True).fit_transform(cv)"
   ]
  },
  {
   "cell_type": "code",
   "execution_count": 52,
   "metadata": {},
   "outputs": [],
   "source": [
    "X_train, X_test, y_train, y_test = train_test_split(tfidf_final, labels, test_size=0.3,random_state=0)"
   ]
  },
  {
   "cell_type": "code",
   "execution_count": 53,
   "metadata": {},
   "outputs": [],
   "source": [
    "classifier = MultinomialNB().fit(X_train, y_train)"
   ]
  },
  {
   "cell_type": "code",
   "execution_count": 43,
   "metadata": {},
   "outputs": [],
   "source": [
    "def printKFoldScore(classifier, features, labels, name):\n",
    "    kfold_score = cross_val_score(classifier, features, labels, cv=10)\n",
    "    print(\"Accuracy for \" + name +  \": \" + str(kfold_score.mean()))"
   ]
  },
  {
   "cell_type": "code",
   "execution_count": 55,
   "metadata": {},
   "outputs": [
    {
     "name": "stdout",
     "output_type": "stream",
     "text": [
      "Accuracy for NBClassifier: 0.499828819070959\n"
     ]
    }
   ],
   "source": [
    "printKFoldScore(classifier,X_train,y_train,\"NBClassifier\")"
   ]
  },
  {
   "cell_type": "code",
   "execution_count": 59,
   "metadata": {},
   "outputs": [],
   "source": [
    "predicted = classifier.predict(X_test)"
   ]
  },
  {
   "cell_type": "code",
   "execution_count": 61,
   "metadata": {},
   "outputs": [
    {
     "data": {
      "text/plain": [
       "0.5169053882880249"
      ]
     },
     "execution_count": 61,
     "metadata": {},
     "output_type": "execute_result"
    }
   ],
   "source": [
    "classifier.score(X_test,y_test)"
   ]
  },
  {
   "cell_type": "code",
   "execution_count": 62,
   "metadata": {},
   "outputs": [
    {
     "name": "stdout",
     "output_type": "stream",
     "text": [
      "[[967   0   0   1   0  13   2   0   0   0   0  11   0   1   0   0  51   0\n",
      "    1   0   0   0   0   1   0   1   1]\n",
      " [ 70   0   0   2   0   1   0   0   0   0   0   5   0   0   0   0   7   0\n",
      "    0   0   0   0   0   0   0   0   0]\n",
      " [122   0  12   2   0  12   0   0   2   0   0   1   0   0   0   0  36   0\n",
      "    6   0   0   0   0   0   0   0   0]\n",
      " [197   0   0 358   0  11   0   0   1   0   0  39   0   0   0   0  29   0\n",
      "    3   0   0   0   0   1   0   0   0]\n",
      " [ 36   0   0   0   0   0   0   0   0   0   0   0   0   0   0   0  12   0\n",
      "    0   0   0   0   0   0   0   0   0]\n",
      " [113   0   0   4   0 617   2   0   0   0   0   8   0   0   0   0  23   0\n",
      "    0   0   0   0   0   0   0   0   3]\n",
      " [189   0   0   2   0  13 271   0   2   0   0   2   1   0   0   0  50   0\n",
      "    0   0   0   0   0   0   0   0   1]\n",
      " [ 78   0   0   0   0   2   0  10   0   0   0   2   0   0   0   0  26   0\n",
      "    0   0   0   0   0   0   0   0   0]\n",
      " [282   0   0   3   0  23   1   0 135   0   0  17   2   1   0   0  57   0\n",
      "    2   0   0   0   0   2   0   3   0]\n",
      " [ 72   0   0   2   0   0   0   0   0   0   0  11   0   0   0   0   4   0\n",
      "    0   0   0   0   0   0   0   1   0]\n",
      " [124   0   0   1   0   8   0   0   2   0 253  11   1   0   0   0  27   0\n",
      "    1   0   0   0   0   1   0   3   1]\n",
      " [219   0   0  23   0  12   2   0   1   0   0 425   3   0   0   0  34   0\n",
      "    1   0   0   0   0   3   0   0   1]\n",
      " [304   0   0   5   0   9   0   0   1   0   1  41 127   1   0   0  29   0\n",
      "    0   0   0   0   0   8   0   6   0]\n",
      " [229   0   0   2   0  13   0   0   4   0   0  15   2 131   0   0  27   0\n",
      "    0   0   0   0   0   4   0   1   0]\n",
      " [122   0   0  11   0   4   1   0   0   0   0  20   0   1  13   0  27   0\n",
      "    1   0   0   0   0   0   0   0   0]\n",
      " [ 13   0   0   0   0   0   0   0   0   0   0   0   0   0   0   0   2   0\n",
      "    0   0   0   0   0   0   0   0   0]\n",
      " [185   0   0   7   0  11   2   0   1   0   0   7   0   0   0   0 587   2\n",
      "    2   0   0   0   0   1   0   0   1]\n",
      " [105   0   0   9   0   8   0   0   1   0   0  15   1   0   0   0  69 161\n",
      "    0   0   0   0   0   0   0   2   0]\n",
      " [ 87   0   0   4   0   7   0   0   1   0   0  14   0   0   0   0  55   0\n",
      "  319   0   0   0   0   0   0   0   0]\n",
      " [ 88   0   0   1   0   0   0   0   0   0   0   2   0   0   0   0  18   0\n",
      "    0   0   0   0   0   0   0   0   0]\n",
      " [125   0   0   0   0   5   0   0   0   0   0   0   0   0   0   0  14   0\n",
      "    0   0   0   0   0   0   0   0   0]\n",
      " [155   0   0   4   0   7   3   0   0   0   0  22   1   0   0   0   9   0\n",
      "    0   0   0 142   0   0   0   3   1]\n",
      " [152   0   0   3   0  12   0   0   0   0   0  22   1   0   0   0  18   0\n",
      "    1   0   0   0  39   2   0   3   3]\n",
      " [202   0   0   7   0   8   0   0   1   0   1  21   5   2   0   0  29   0\n",
      "    0   0   0   1   0 177   0   2   0]\n",
      " [ 43   0   0   3   0   0   0   0   0   0   0   2   0   0   0   0   7   0\n",
      "    0   0   0   0   0   0   0   0   0]\n",
      " [159   0   0   3   0   8   1   0   0   0   1  25   1   0   0   0  21   0\n",
      "    0   0   0   0   0   1   0 272   1]\n",
      " [ 53   0   0   1   0   2   0   0   0   0   0   5   0   0   0   0   4   0\n",
      "    0   0   0   0   0   0   0   1 289]]\n"
     ]
    },
    {
     "data": {
      "text/plain": [
       "Text(0,0.5,'True')"
      ]
     },
     "execution_count": 62,
     "metadata": {},
     "output_type": "execute_result"
    },
    {
     "data": {
      "image/png": "[encoded data removed]",
      "text/plain": [
       "<Figure size 432x288 with 2 Axes>"
      ]
     },
     "metadata": {},
     "output_type": "display_data"
    }
   ],
   "source": [
    "from sklearn.metrics import confusion_matrix\n",
    "\n",
    "# labels = ['business', 'health']\n",
    "cm = confusion_matrix(y_test, predicted)\n",
    "print(cm)\n",
    "fig = plt.figure()\n",
    "ax = fig.add_subplot(111)\n",
    "cax = ax.matshow(cm)\n",
    "plt.title('Confusion matrix of the classifier')\n",
    "fig.colorbar(cax)\n",
    "ax.set_xticklabels([''])\n",
    "ax.set_yticklabels([''])\n",
    "plt.xlabel('Predicted')\n",
    "plt.ylabel('True')\n",
    "# plt.show()"
   ]
  },
  {
   "cell_type": "code",
   "execution_count": 63,
   "metadata": {},
   "outputs": [
    {
     "name": "stdout",
     "output_type": "stream",
     "text": [
      "              precision    recall  f1-score   support\n",
      "\n",
      "         211       0.22      0.92      0.35      1050\n",
      "         214       0.00      0.00      0.00        85\n",
      "         221       1.00      0.06      0.12       193\n",
      "         222       0.78      0.56      0.65       639\n",
      "         231       0.00      0.00      0.00        48\n",
      "         241       0.77      0.80      0.78       770\n",
      "         242       0.95      0.51      0.66       531\n",
      "         245       1.00      0.08      0.16       118\n",
      "         311       0.89      0.26      0.40       528\n",
      "         312       0.00      0.00      0.00        90\n",
      "         313       0.99      0.58      0.73       433\n",
      "         321       0.57      0.59      0.58       724\n",
      "         331       0.88      0.24      0.38       532\n",
      "         341       0.96      0.31      0.46       428\n",
      "         342       1.00      0.07      0.12       200\n",
      "         353       0.00      0.00      0.00        15\n",
      "         354       0.46      0.73      0.56       806\n",
      "         356       0.99      0.43      0.60       371\n",
      "         412       0.95      0.66      0.77       487\n",
      "         511       0.00      0.00      0.00       109\n",
      "         523       0.00      0.00      0.00       144\n",
      "         544       0.99      0.41      0.58       347\n",
      "         612       1.00      0.15      0.26       256\n",
      "         614       0.88      0.39      0.54       456\n",
      "         621       0.00      0.00      0.00        55\n",
      "         924       0.91      0.55      0.69       493\n",
      "         927       0.96      0.81      0.88       355\n",
      "\n",
      "   micro avg       0.52      0.52      0.52     10263\n",
      "   macro avg       0.63      0.34      0.38     10263\n",
      "weighted avg       0.73      0.52      0.52     10263\n",
      "\n"
     ]
    }
   ],
   "source": [
    "from sklearn.metrics import classification_report\n",
    "print(classification_report(y_test, predicted))"
   ]
  }
 ],
 "metadata": {
  "kernelspec": {
   "display_name": "Python 2",
   "language": "python",
   "name": "python2"
  },
  "language_info": {
   "codemirror_mode": {
    "name": "ipython",
    "version": 2
   },
   "file_extension": ".py",
   "mimetype": "text/x-python",
   "name": "python",
   "nbconvert_exporter": "python",
   "pygments_lexer": "ipython2",
   "version": "2.7.12"
  }
 },
 "nbformat": 4,
 "nbformat_minor": 2
}
